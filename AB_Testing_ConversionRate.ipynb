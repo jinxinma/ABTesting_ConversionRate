{
 "cells": [
  {
   "cell_type": "markdown",
   "metadata": {},
   "source": [
    "# AB Testing On Conversion Rate\n",
    "Jinxin Ma 01/05/2018\n",
    "\n",
    "The structure of this notebook is as follows:\n",
    "    1. Exploratory Data Analysis\n",
    "    2. Two-sample Z-test on entire dataset\n",
    "    3. Conversion rate by variable\n",
    "    4. Conversion rate by country\n",
    "    5. Algorithm design 1 - stratification\n",
    "    6. Algorithm design 2 - logistic regression"
   ]
  },
  {
   "cell_type": "code",
   "execution_count": 44,
   "metadata": {
    "collapsed": true
   },
   "outputs": [],
   "source": [
    "import pandas as pd\n",
    "import numpy as np\n",
    "import seaborn as sns\n",
    "import matplotlib.pyplot as plt\n",
    "from __future__ import absolute_import, division, print_function, unicode_literals\n",
    "\n",
    "# display plots in notebook\n",
    "%matplotlib inline\n",
    "sns.set(style=\"whitegrid\", color_codes=True)\n",
    "\n",
    "params = {'legend.fontsize': 'x-large',\n",
    "          'figure.figsize': (8, 6),\n",
    "         'axes.labelsize': 18,\n",
    "         'axes.titlesize': 18,\n",
    "         'xtick.labelsize': 18,\n",
    "         'ytick.labelsize': 16}\n",
    "plt.rcParams.update(params)"
   ]
  },
  {
   "cell_type": "markdown",
   "metadata": {},
   "source": [
    "## 1. Exploratory data analysis\n",
    "\n",
    "First, let's read the data and take a look at the first few rows of each dataset."
   ]
  },
  {
   "cell_type": "code",
   "execution_count": 45,
   "metadata": {
    "collapsed": true
   },
   "outputs": [],
   "source": [
    "test = pd.read_csv('test_data_table.csv')\n",
    "user = pd.read_csv('user_data_table.csv')"
   ]
  },
  {
   "cell_type": "code",
   "execution_count": 46,
   "metadata": {},
   "outputs": [
    {
     "data": {
      "text/html": [
       "<div>\n",
       "<style scoped>\n",
       "    .dataframe tbody tr th:only-of-type {\n",
       "        vertical-align: middle;\n",
       "    }\n",
       "\n",
       "    .dataframe tbody tr th {\n",
       "        vertical-align: top;\n",
       "    }\n",
       "\n",
       "    .dataframe thead th {\n",
       "        text-align: right;\n",
       "    }\n",
       "</style>\n",
       "<table border=\"1\" class=\"dataframe\">\n",
       "  <thead>\n",
       "    <tr style=\"text-align: right;\">\n",
       "      <th></th>\n",
       "      <th>user_id</th>\n",
       "      <th>date</th>\n",
       "      <th>source</th>\n",
       "      <th>device</th>\n",
       "      <th>browser_language</th>\n",
       "      <th>ads_channel</th>\n",
       "      <th>browser</th>\n",
       "      <th>conversion</th>\n",
       "      <th>test</th>\n",
       "    </tr>\n",
       "  </thead>\n",
       "  <tbody>\n",
       "    <tr>\n",
       "      <th>0</th>\n",
       "      <td>315281</td>\n",
       "      <td>2015-12-03</td>\n",
       "      <td>Direct</td>\n",
       "      <td>Web</td>\n",
       "      <td>FR</td>\n",
       "      <td>NaN</td>\n",
       "      <td>IE</td>\n",
       "      <td>1</td>\n",
       "      <td>0</td>\n",
       "    </tr>\n",
       "    <tr>\n",
       "      <th>1</th>\n",
       "      <td>497851</td>\n",
       "      <td>2015-12-04</td>\n",
       "      <td>Ads</td>\n",
       "      <td>Web</td>\n",
       "      <td>FR</td>\n",
       "      <td>Google</td>\n",
       "      <td>IE</td>\n",
       "      <td>0</td>\n",
       "      <td>1</td>\n",
       "    </tr>\n",
       "    <tr>\n",
       "      <th>2</th>\n",
       "      <td>848402</td>\n",
       "      <td>2015-12-04</td>\n",
       "      <td>Ads</td>\n",
       "      <td>Web</td>\n",
       "      <td>FR</td>\n",
       "      <td>Facebook</td>\n",
       "      <td>Chrome</td>\n",
       "      <td>0</td>\n",
       "      <td>0</td>\n",
       "    </tr>\n",
       "    <tr>\n",
       "      <th>3</th>\n",
       "      <td>290051</td>\n",
       "      <td>2015-12-03</td>\n",
       "      <td>Ads</td>\n",
       "      <td>Mobile</td>\n",
       "      <td>Other</td>\n",
       "      <td>Facebook</td>\n",
       "      <td>Android_App</td>\n",
       "      <td>0</td>\n",
       "      <td>1</td>\n",
       "    </tr>\n",
       "    <tr>\n",
       "      <th>4</th>\n",
       "      <td>548435</td>\n",
       "      <td>2015-11-30</td>\n",
       "      <td>Ads</td>\n",
       "      <td>Web</td>\n",
       "      <td>FR</td>\n",
       "      <td>Google</td>\n",
       "      <td>FireFox</td>\n",
       "      <td>0</td>\n",
       "      <td>1</td>\n",
       "    </tr>\n",
       "  </tbody>\n",
       "</table>\n",
       "</div>"
      ],
      "text/plain": [
       "   user_id        date  source  device browser_language ads_channel  \\\n",
       "0   315281  2015-12-03  Direct     Web               FR         NaN   \n",
       "1   497851  2015-12-04     Ads     Web               FR      Google   \n",
       "2   848402  2015-12-04     Ads     Web               FR    Facebook   \n",
       "3   290051  2015-12-03     Ads  Mobile            Other    Facebook   \n",
       "4   548435  2015-11-30     Ads     Web               FR      Google   \n",
       "\n",
       "       browser  conversion  test  \n",
       "0           IE           1     0  \n",
       "1           IE           0     1  \n",
       "2       Chrome           0     0  \n",
       "3  Android_App           0     1  \n",
       "4      FireFox           0     1  "
      ]
     },
     "execution_count": 46,
     "metadata": {},
     "output_type": "execute_result"
    }
   ],
   "source": [
    "test.head(5)"
   ]
  },
  {
   "cell_type": "code",
   "execution_count": 47,
   "metadata": {},
   "outputs": [
    {
     "data": {
      "text/html": [
       "<div>\n",
       "<style scoped>\n",
       "    .dataframe tbody tr th:only-of-type {\n",
       "        vertical-align: middle;\n",
       "    }\n",
       "\n",
       "    .dataframe tbody tr th {\n",
       "        vertical-align: top;\n",
       "    }\n",
       "\n",
       "    .dataframe thead th {\n",
       "        text-align: right;\n",
       "    }\n",
       "</style>\n",
       "<table border=\"1\" class=\"dataframe\">\n",
       "  <thead>\n",
       "    <tr style=\"text-align: right;\">\n",
       "      <th></th>\n",
       "      <th>user_id</th>\n",
       "      <th>sex</th>\n",
       "      <th>age</th>\n",
       "      <th>country</th>\n",
       "    </tr>\n",
       "  </thead>\n",
       "  <tbody>\n",
       "    <tr>\n",
       "      <th>0</th>\n",
       "      <td>765821</td>\n",
       "      <td>M</td>\n",
       "      <td>20</td>\n",
       "      <td>Democratic Republic of the Congo</td>\n",
       "    </tr>\n",
       "    <tr>\n",
       "      <th>1</th>\n",
       "      <td>343561</td>\n",
       "      <td>F</td>\n",
       "      <td>27</td>\n",
       "      <td>Luxembourg</td>\n",
       "    </tr>\n",
       "    <tr>\n",
       "      <th>2</th>\n",
       "      <td>118744</td>\n",
       "      <td>M</td>\n",
       "      <td>23</td>\n",
       "      <td>Canada</td>\n",
       "    </tr>\n",
       "    <tr>\n",
       "      <th>3</th>\n",
       "      <td>987753</td>\n",
       "      <td>F</td>\n",
       "      <td>27</td>\n",
       "      <td>Switzerland</td>\n",
       "    </tr>\n",
       "    <tr>\n",
       "      <th>4</th>\n",
       "      <td>554597</td>\n",
       "      <td>F</td>\n",
       "      <td>20</td>\n",
       "      <td>France</td>\n",
       "    </tr>\n",
       "  </tbody>\n",
       "</table>\n",
       "</div>"
      ],
      "text/plain": [
       "   user_id sex  age                           country\n",
       "0   765821   M   20  Democratic Republic of the Congo\n",
       "1   343561   F   27                        Luxembourg\n",
       "2   118744   M   23                            Canada\n",
       "3   987753   F   27                       Switzerland\n",
       "4   554597   F   20                            France"
      ]
     },
     "execution_count": 47,
     "metadata": {},
     "output_type": "execute_result"
    }
   ],
   "source": [
    "user.head(5)"
   ]
  },
  {
   "cell_type": "markdown",
   "metadata": {},
   "source": [
    "From the result below, we see that there are 453,321 unique users in the test table and 452,867 in the user table."
   ]
  },
  {
   "cell_type": "code",
   "execution_count": 48,
   "metadata": {},
   "outputs": [
    {
     "name": "stdout",
     "output_type": "stream",
     "text": [
      "(453321, 9) (452867, 4)\n",
      "453321\n",
      "452867\n"
     ]
    }
   ],
   "source": [
    "print (test.shape, user.shape)\n",
    "print (test.user_id.nunique())\n",
    "print (user.user_id.nunique())"
   ]
  },
  {
   "cell_type": "markdown",
   "metadata": {},
   "source": [
    "Let's merge the demographic information for each user by joining two dataframes."
   ]
  },
  {
   "cell_type": "code",
   "execution_count": 49,
   "metadata": {
    "collapsed": true
   },
   "outputs": [],
   "source": [
    "test_user = pd.merge(test, user, on='user_id', how='left')"
   ]
  },
  {
   "cell_type": "code",
   "execution_count": 50,
   "metadata": {},
   "outputs": [
    {
     "data": {
      "text/html": [
       "<div>\n",
       "<style scoped>\n",
       "    .dataframe tbody tr th:only-of-type {\n",
       "        vertical-align: middle;\n",
       "    }\n",
       "\n",
       "    .dataframe tbody tr th {\n",
       "        vertical-align: top;\n",
       "    }\n",
       "\n",
       "    .dataframe thead th {\n",
       "        text-align: right;\n",
       "    }\n",
       "</style>\n",
       "<table border=\"1\" class=\"dataframe\">\n",
       "  <thead>\n",
       "    <tr style=\"text-align: right;\">\n",
       "      <th></th>\n",
       "      <th>user_id</th>\n",
       "      <th>date</th>\n",
       "      <th>source</th>\n",
       "      <th>device</th>\n",
       "      <th>browser_language</th>\n",
       "      <th>ads_channel</th>\n",
       "      <th>browser</th>\n",
       "      <th>conversion</th>\n",
       "      <th>test</th>\n",
       "      <th>sex</th>\n",
       "      <th>age</th>\n",
       "      <th>country</th>\n",
       "    </tr>\n",
       "  </thead>\n",
       "  <tbody>\n",
       "    <tr>\n",
       "      <th>0</th>\n",
       "      <td>315281</td>\n",
       "      <td>2015-12-03</td>\n",
       "      <td>Direct</td>\n",
       "      <td>Web</td>\n",
       "      <td>FR</td>\n",
       "      <td>NaN</td>\n",
       "      <td>IE</td>\n",
       "      <td>1</td>\n",
       "      <td>0</td>\n",
       "      <td>M</td>\n",
       "      <td>32.0</td>\n",
       "      <td>France</td>\n",
       "    </tr>\n",
       "    <tr>\n",
       "      <th>1</th>\n",
       "      <td>497851</td>\n",
       "      <td>2015-12-04</td>\n",
       "      <td>Ads</td>\n",
       "      <td>Web</td>\n",
       "      <td>FR</td>\n",
       "      <td>Google</td>\n",
       "      <td>IE</td>\n",
       "      <td>0</td>\n",
       "      <td>1</td>\n",
       "      <td>M</td>\n",
       "      <td>21.0</td>\n",
       "      <td>Democratic Republic of the Congo</td>\n",
       "    </tr>\n",
       "    <tr>\n",
       "      <th>2</th>\n",
       "      <td>848402</td>\n",
       "      <td>2015-12-04</td>\n",
       "      <td>Ads</td>\n",
       "      <td>Web</td>\n",
       "      <td>FR</td>\n",
       "      <td>Facebook</td>\n",
       "      <td>Chrome</td>\n",
       "      <td>0</td>\n",
       "      <td>0</td>\n",
       "      <td>M</td>\n",
       "      <td>34.0</td>\n",
       "      <td>France</td>\n",
       "    </tr>\n",
       "    <tr>\n",
       "      <th>3</th>\n",
       "      <td>290051</td>\n",
       "      <td>2015-12-03</td>\n",
       "      <td>Ads</td>\n",
       "      <td>Mobile</td>\n",
       "      <td>Other</td>\n",
       "      <td>Facebook</td>\n",
       "      <td>Android_App</td>\n",
       "      <td>0</td>\n",
       "      <td>1</td>\n",
       "      <td>F</td>\n",
       "      <td>22.0</td>\n",
       "      <td>Democratic Republic of the Congo</td>\n",
       "    </tr>\n",
       "    <tr>\n",
       "      <th>4</th>\n",
       "      <td>548435</td>\n",
       "      <td>2015-11-30</td>\n",
       "      <td>Ads</td>\n",
       "      <td>Web</td>\n",
       "      <td>FR</td>\n",
       "      <td>Google</td>\n",
       "      <td>FireFox</td>\n",
       "      <td>0</td>\n",
       "      <td>1</td>\n",
       "      <td>M</td>\n",
       "      <td>19.0</td>\n",
       "      <td>Democratic Republic of the Congo</td>\n",
       "    </tr>\n",
       "  </tbody>\n",
       "</table>\n",
       "</div>"
      ],
      "text/plain": [
       "   user_id        date  source  device browser_language ads_channel  \\\n",
       "0   315281  2015-12-03  Direct     Web               FR         NaN   \n",
       "1   497851  2015-12-04     Ads     Web               FR      Google   \n",
       "2   848402  2015-12-04     Ads     Web               FR    Facebook   \n",
       "3   290051  2015-12-03     Ads  Mobile            Other    Facebook   \n",
       "4   548435  2015-11-30     Ads     Web               FR      Google   \n",
       "\n",
       "       browser  conversion  test sex   age                           country  \n",
       "0           IE           1     0   M  32.0                            France  \n",
       "1           IE           0     1   M  21.0  Democratic Republic of the Congo  \n",
       "2       Chrome           0     0   M  34.0                            France  \n",
       "3  Android_App           0     1   F  22.0  Democratic Republic of the Congo  \n",
       "4      FireFox           0     1   M  19.0  Democratic Republic of the Congo  "
      ]
     },
     "execution_count": 50,
     "metadata": {},
     "output_type": "execute_result"
    }
   ],
   "source": [
    "test_user.head(5)"
   ]
  },
  {
   "cell_type": "markdown",
   "metadata": {},
   "source": [
    "Check the number of missing values in each variable. There are missing values in ads_channel, sex, age, and country."
   ]
  },
  {
   "cell_type": "code",
   "execution_count": 51,
   "metadata": {},
   "outputs": [
    {
     "data": {
      "text/html": [
       "<div>\n",
       "<style scoped>\n",
       "    .dataframe tbody tr th:only-of-type {\n",
       "        vertical-align: middle;\n",
       "    }\n",
       "\n",
       "    .dataframe tbody tr th {\n",
       "        vertical-align: top;\n",
       "    }\n",
       "\n",
       "    .dataframe thead th {\n",
       "        text-align: right;\n",
       "    }\n",
       "</style>\n",
       "<table border=\"1\" class=\"dataframe\">\n",
       "  <thead>\n",
       "    <tr style=\"text-align: right;\">\n",
       "      <th></th>\n",
       "      <th>column</th>\n",
       "      <th>missing value count</th>\n",
       "    </tr>\n",
       "  </thead>\n",
       "  <tbody>\n",
       "    <tr>\n",
       "      <th>0</th>\n",
       "      <td>user_id</td>\n",
       "      <td>0</td>\n",
       "    </tr>\n",
       "    <tr>\n",
       "      <th>1</th>\n",
       "      <td>date</td>\n",
       "      <td>0</td>\n",
       "    </tr>\n",
       "    <tr>\n",
       "      <th>2</th>\n",
       "      <td>source</td>\n",
       "      <td>0</td>\n",
       "    </tr>\n",
       "    <tr>\n",
       "      <th>3</th>\n",
       "      <td>device</td>\n",
       "      <td>0</td>\n",
       "    </tr>\n",
       "    <tr>\n",
       "      <th>4</th>\n",
       "      <td>browser_language</td>\n",
       "      <td>0</td>\n",
       "    </tr>\n",
       "    <tr>\n",
       "      <th>5</th>\n",
       "      <td>ads_channel</td>\n",
       "      <td>271444</td>\n",
       "    </tr>\n",
       "    <tr>\n",
       "      <th>6</th>\n",
       "      <td>browser</td>\n",
       "      <td>0</td>\n",
       "    </tr>\n",
       "    <tr>\n",
       "      <th>7</th>\n",
       "      <td>conversion</td>\n",
       "      <td>0</td>\n",
       "    </tr>\n",
       "    <tr>\n",
       "      <th>8</th>\n",
       "      <td>test</td>\n",
       "      <td>0</td>\n",
       "    </tr>\n",
       "    <tr>\n",
       "      <th>9</th>\n",
       "      <td>sex</td>\n",
       "      <td>454</td>\n",
       "    </tr>\n",
       "    <tr>\n",
       "      <th>10</th>\n",
       "      <td>age</td>\n",
       "      <td>454</td>\n",
       "    </tr>\n",
       "    <tr>\n",
       "      <th>11</th>\n",
       "      <td>country</td>\n",
       "      <td>454</td>\n",
       "    </tr>\n",
       "  </tbody>\n",
       "</table>\n",
       "</div>"
      ],
      "text/plain": [
       "              column  missing value count\n",
       "0            user_id                    0\n",
       "1               date                    0\n",
       "2             source                    0\n",
       "3             device                    0\n",
       "4   browser_language                    0\n",
       "5        ads_channel               271444\n",
       "6            browser                    0\n",
       "7         conversion                    0\n",
       "8               test                    0\n",
       "9                sex                  454\n",
       "10               age                  454\n",
       "11           country                  454"
      ]
     },
     "execution_count": 51,
     "metadata": {},
     "output_type": "execute_result"
    }
   ],
   "source": [
    "missing_df = pd.DataFrame(test_user.isnull().sum()).reset_index()\n",
    "missing_df.columns = ['column', 'missing value count']\n",
    "missing_df"
   ]
  },
  {
   "cell_type": "markdown",
   "metadata": {},
   "source": [
    "For categorical variables, let's fill missing values with \"NA\", for age which is continuous, let's impute missing values with median age."
   ]
  },
  {
   "cell_type": "code",
   "execution_count": 52,
   "metadata": {
    "collapsed": true
   },
   "outputs": [],
   "source": [
    "# test_user['ads_channel'].fillna('NA', inplace=True)\n",
    "# test_user['sex'].fillna('NA', inplace=True)\n",
    "# test_user['country'].fillna('NA', inplace=True)\n",
    "test_user['age'].fillna(test_user['age'].median(), inplace=True)"
   ]
  },
  {
   "cell_type": "markdown",
   "metadata": {},
   "source": [
    "It makes sense to convert age into age groups so we can check if the conversion rates are different across age groups. Here, I choose to split based on the median age which is 26. Alternatively, we can use quartile or clustering to split age into more groups."
   ]
  },
  {
   "cell_type": "code",
   "execution_count": 53,
   "metadata": {
    "collapsed": true
   },
   "outputs": [],
   "source": [
    "def age_cat(value):\n",
    "    if value <= 25:\n",
    "        return '<=25'\n",
    "    else: return '25+'\n",
    "    \n",
    "test_user['age_group'] = test_user['age'].apply(age_cat)"
   ]
  },
  {
   "cell_type": "markdown",
   "metadata": {},
   "source": [
    "Eventually, let's remove France and samples that have missing country values from the dataset because:\n",
    "1. Nothing has changed for France\n",
    "2. Number of missing values is small, so they won't affect statistical tests much"
   ]
  },
  {
   "cell_type": "code",
   "execution_count": 54,
   "metadata": {},
   "outputs": [
    {
     "data": {
      "text/plain": [
       "(401539, 13)"
      ]
     },
     "execution_count": 54,
     "metadata": {},
     "output_type": "execute_result"
    }
   ],
   "source": [
    "test_user = test_user[(test_user.country != 'France') & (test_user.country != 'missing')]\n",
    "test_user.shape"
   ]
  },
  {
   "cell_type": "markdown",
   "metadata": {},
   "source": [
    "**Summary: ** Now our dataset is ready to be analyzed, in the next section we will examine whether the localized translations were really doing worse."
   ]
  },
  {
   "cell_type": "markdown",
   "metadata": {},
   "source": [
    "## 2. Two Sample Z-test on entire data set\n",
    "\n",
    "First let's simulate the test done by the team/data scientist, which is to run the test using all data.\n",
    "\n",
    "When testing whether the conversion rate is statistically different between the experiment and the control groups, we usually apply a two-sample proportion test. Options include Chi-square test, Z-test, etc. When the sample size is large, these tests lead to the same statistical result, i.e. P-value. I chose to use Z-test here because our sample size is sufficiently large.\n",
    "\n",
    "The team's assumption is:\n",
    "\n",
    "$H_{0}:\\ Conversion\\ rate_{experiment\\ group} = Conversion\\ rate_{control\\ group}$\n",
    "\n",
    "$H_{1}: Conversion\\ rate_{experiment\\ group} < Conversion\\ rate_{control\\ group}$\n",
    "\n",
    "\n",
    "First, let's subset the data into an experiment group and a control group"
   ]
  },
  {
   "cell_type": "code",
   "execution_count": 55,
   "metadata": {
    "collapsed": true
   },
   "outputs": [],
   "source": [
    "experiment_group = test_user[(test_user.test == 1)]\n",
    "control_group = test_user[(test_user.test == 0)]"
   ]
  },
  {
   "cell_type": "markdown",
   "metadata": {},
   "source": [
    "We can see from below that initial comparison of the conversion rates between the experiment and the control groups indicates that the non-localized translation was doing better."
   ]
  },
  {
   "cell_type": "code",
   "execution_count": 56,
   "metadata": {},
   "outputs": [
    {
     "data": {
      "text/plain": [
       "0.04833042316066309"
      ]
     },
     "execution_count": 56,
     "metadata": {},
     "output_type": "execute_result"
    }
   ],
   "source": [
    "control_group.conversion.mean()"
   ]
  },
  {
   "cell_type": "code",
   "execution_count": 57,
   "metadata": {},
   "outputs": [
    {
     "data": {
      "text/plain": [
       "0.043424713982118966"
      ]
     },
     "execution_count": 57,
     "metadata": {},
     "output_type": "execute_result"
    }
   ],
   "source": [
    "experiment_group.conversion.mean()"
   ]
  },
  {
   "cell_type": "markdown",
   "metadata": {},
   "source": [
    "Next, let's apply a one-sided Z-test on two groups. We got a p-value of 5.77 x 10^(-74) which is less than the 5% significance level. We cannot reject the null hypothesis that the conversion rate of the experiment group is greater than or equal to that of the control group."
   ]
  },
  {
   "cell_type": "code",
   "execution_count": 58,
   "metadata": {},
   "outputs": [
    {
     "name": "stdout",
     "output_type": "stream",
     "text": [
      "Z-score is: -7.42202142201\n",
      "P-value is: 5.76730754076e-14\n"
     ]
    }
   ],
   "source": [
    "import statsmodels.api as sm\n",
    "def two_sample_z_test(df, alternative='two-sided'):\n",
    "    \"\"\"\n",
    "    This function returns the P-value from a two-sample Z-test\n",
    "    \"\"\"\n",
    "    test_df = df[df.test == 1]\n",
    "    control_df = df[df.test == 0]\n",
    "\n",
    "    test_convert = test_df.conversion.sum()\n",
    "    control_convert = control_df.conversion.sum()\n",
    "\n",
    "    test_n = len(test_df.conversion)\n",
    "    control_n = len(control_df.conversion)\n",
    "    z, p_value = sm.stats.proportions_ztest([test_convert, control_convert], \n",
    "                                            [test_n, control_n],\n",
    "                                           alternative=alternative)\n",
    "    return(z, p_value)\n",
    "\n",
    "z, pvalue = two_sample_z_test(test_user, alternative='smaller')\n",
    "print('Z-score is: {}'.format(z))\n",
    "print('P-value is: {}'.format(pvalue))"
   ]
  },
  {
   "cell_type": "markdown",
   "metadata": {},
   "source": [
    "**Summary: ** From the test result we see that what the team observed was true, the conversion rate of the test group is indeed less than that of the control group. However, is that the whole story? Let's explore more in the next section."
   ]
  },
  {
   "cell_type": "markdown",
   "metadata": {},
   "source": [
    "## 3. Conversion rate by variable\n",
    "\n",
    "In statistical analysis, there is concept called **confounding variable** which influences the effect of independent variables on the dependent variable. They can cause our statistical inference to be inaccurate. In this section, let's look into several variables and try to identify if they might be the reason for the counter-intuitive result seen by the team."
   ]
  },
  {
   "cell_type": "code",
   "execution_count": 59,
   "metadata": {
    "collapsed": true
   },
   "outputs": [],
   "source": [
    "def conversion_barplot(test_df, control_df, col):\n",
    "    test = test_df.groupby(col).conversion.mean().reset_index()\n",
    "    control = control_df.groupby(col).conversion.mean().reset_index()\n",
    "    merge_df = pd.merge(control, test, on=col)\n",
    "    merge_df.columns = [col, 'Control', 'Treatment']  \n",
    "    merge_df.sort_values(by='Treatment', ascending=False).head(10).plot(x=col, kind='bar')\n",
    "    plt.legend(loc='center left', bbox_to_anchor=(0.3, 1.1))\n",
    "    plt.savefig('demo.png', transparent=True, bbox_inches='tight')"
   ]
  },
  {
   "cell_type": "markdown",
   "metadata": {},
   "source": [
    "From the bar plot of conversion rate by gender, we see that test group has a lower conversion rate than the control for each gender. Also within each group, there is not much of a difference of the conversion rate."
   ]
  },
  {
   "cell_type": "code",
   "execution_count": 60,
   "metadata": {},
   "outputs": [
    {
     "data": {
      "image/png": "[encoded data removed]",
      "text/plain": [
       "<matplotlib.figure.Figure at 0x117d37150>"
      ]
     },
     "metadata": {},
     "output_type": "display_data"
    }
   ],
   "source": [
    "conversion_barplot(experiment_group, control_group, 'sex')"
   ]
  },
  {
   "cell_type": "markdown",
   "metadata": {},
   "source": [
    "For ads_channel, we observed the same - that is the conversion rate of experiment group is lower than that of the control group."
   ]
  },
  {
   "cell_type": "code",
   "execution_count": 61,
   "metadata": {},
   "outputs": [
    {
     "data": {
      "image/png": "[encoded data removed]",
      "text/plain": [
       "<matplotlib.figure.Figure at 0x119dbd1d0>"
      ]
     },
     "metadata": {},
     "output_type": "display_data"
    }
   ],
   "source": [
    "conversion_barplot(experiment_group, control_group, 'ads_channel')"
   ]
  },
  {
   "cell_type": "markdown",
   "metadata": {},
   "source": [
    "However, when looking at different countries, we found some countries have a higher conversion rate in the experiment group than the control group. For example, Gabon, Marocco, and Andorra."
   ]
  },
  {
   "cell_type": "code",
   "execution_count": 62,
   "metadata": {
    "collapsed": true
   },
   "outputs": [],
   "source": [
    "exp1 = experiment_group[experiment_group.country != 'Democratic Republic of the Congo']\n",
    "trmt1 = control_group[control_group.country != 'Democratic Republic of the Congo']"
   ]
  },
  {
   "cell_type": "code",
   "execution_count": 63,
   "metadata": {},
   "outputs": [
    {
     "data": {
      "image/png": "[encoded data removed]",
      "text/plain": [
       "<matplotlib.figure.Figure at 0x117d37f10>"
      ]
     },
     "metadata": {},
     "output_type": "display_data"
    }
   ],
   "source": [
    "conversion_barplot(exp1, trmt1, 'country')"
   ]
  },
  {
   "cell_type": "markdown",
   "metadata": {},
   "source": [
    "**Summary: ** We have identified that country may be a confounding factor that influences the coversion rate. In next section, let's dive deeper into this variable."
   ]
  },
  {
   "cell_type": "markdown",
   "metadata": {},
   "source": [
    "## 4. Conversion rate by country\n",
    "\n",
    "In this section, let's look at conversion rate by country and check how many countries have a higher conversion rate in the experiment group than the control.\n",
    "\n",
    "From the table below, we see that several countries have a higher conversion rate in the experiment group, for example Andorra, Cameroon, and Democratic Republic of the Congo."
   ]
  },
  {
   "cell_type": "code",
   "execution_count": 64,
   "metadata": {},
   "outputs": [
    {
     "data": {
      "text/html": [
       "<div>\n",
       "<style scoped>\n",
       "    .dataframe tbody tr th:only-of-type {\n",
       "        vertical-align: middle;\n",
       "    }\n",
       "\n",
       "    .dataframe tbody tr th {\n",
       "        vertical-align: top;\n",
       "    }\n",
       "\n",
       "    .dataframe thead th {\n",
       "        text-align: right;\n",
       "    }\n",
       "</style>\n",
       "<table border=\"1\" class=\"dataframe\">\n",
       "  <thead>\n",
       "    <tr style=\"text-align: right;\">\n",
       "      <th></th>\n",
       "      <th>country</th>\n",
       "      <th>test</th>\n",
       "      <th>conversion</th>\n",
       "    </tr>\n",
       "  </thead>\n",
       "  <tbody>\n",
       "    <tr>\n",
       "      <th>0</th>\n",
       "      <td>Algeria</td>\n",
       "      <td>0</td>\n",
       "      <td>0.015071</td>\n",
       "    </tr>\n",
       "    <tr>\n",
       "      <th>1</th>\n",
       "      <td>Algeria</td>\n",
       "      <td>1</td>\n",
       "      <td>0.013725</td>\n",
       "    </tr>\n",
       "    <tr>\n",
       "      <th>2</th>\n",
       "      <td>Andorra</td>\n",
       "      <td>0</td>\n",
       "      <td>0.048493</td>\n",
       "    </tr>\n",
       "    <tr>\n",
       "      <th>3</th>\n",
       "      <td>Andorra</td>\n",
       "      <td>1</td>\n",
       "      <td>0.049229</td>\n",
       "    </tr>\n",
       "    <tr>\n",
       "      <th>4</th>\n",
       "      <td>Belgium</td>\n",
       "      <td>0</td>\n",
       "      <td>0.049154</td>\n",
       "    </tr>\n",
       "    <tr>\n",
       "      <th>5</th>\n",
       "      <td>Belgium</td>\n",
       "      <td>1</td>\n",
       "      <td>0.048988</td>\n",
       "    </tr>\n",
       "    <tr>\n",
       "      <th>6</th>\n",
       "      <td>Cameroon</td>\n",
       "      <td>0</td>\n",
       "      <td>0.049914</td>\n",
       "    </tr>\n",
       "    <tr>\n",
       "      <th>7</th>\n",
       "      <td>Cameroon</td>\n",
       "      <td>1</td>\n",
       "      <td>0.050604</td>\n",
       "    </tr>\n",
       "    <tr>\n",
       "      <th>8</th>\n",
       "      <td>Canada</td>\n",
       "      <td>0</td>\n",
       "      <td>0.052089</td>\n",
       "    </tr>\n",
       "    <tr>\n",
       "      <th>9</th>\n",
       "      <td>Canada</td>\n",
       "      <td>1</td>\n",
       "      <td>0.050571</td>\n",
       "    </tr>\n",
       "    <tr>\n",
       "      <th>10</th>\n",
       "      <td>Democratic Republic of the Congo</td>\n",
       "      <td>0</td>\n",
       "      <td>0.049495</td>\n",
       "    </tr>\n",
       "    <tr>\n",
       "      <th>11</th>\n",
       "      <td>Democratic Republic of the Congo</td>\n",
       "      <td>1</td>\n",
       "      <td>0.051186</td>\n",
       "    </tr>\n",
       "    <tr>\n",
       "      <th>12</th>\n",
       "      <td>Gabon</td>\n",
       "      <td>0</td>\n",
       "      <td>0.052256</td>\n",
       "    </tr>\n",
       "    <tr>\n",
       "      <th>13</th>\n",
       "      <td>Gabon</td>\n",
       "      <td>1</td>\n",
       "      <td>0.054738</td>\n",
       "    </tr>\n",
       "    <tr>\n",
       "      <th>14</th>\n",
       "      <td>Haiti</td>\n",
       "      <td>0</td>\n",
       "      <td>0.049369</td>\n",
       "    </tr>\n",
       "    <tr>\n",
       "      <th>15</th>\n",
       "      <td>Haiti</td>\n",
       "      <td>1</td>\n",
       "      <td>0.047901</td>\n",
       "    </tr>\n",
       "    <tr>\n",
       "      <th>16</th>\n",
       "      <td>Luxembourg</td>\n",
       "      <td>0</td>\n",
       "      <td>0.052647</td>\n",
       "    </tr>\n",
       "    <tr>\n",
       "      <th>17</th>\n",
       "      <td>Luxembourg</td>\n",
       "      <td>1</td>\n",
       "      <td>0.054177</td>\n",
       "    </tr>\n",
       "    <tr>\n",
       "      <th>18</th>\n",
       "      <td>Mauritius</td>\n",
       "      <td>0</td>\n",
       "      <td>0.012048</td>\n",
       "    </tr>\n",
       "    <tr>\n",
       "      <th>19</th>\n",
       "      <td>Mauritius</td>\n",
       "      <td>1</td>\n",
       "      <td>0.012907</td>\n",
       "    </tr>\n",
       "    <tr>\n",
       "      <th>20</th>\n",
       "      <td>Morocco</td>\n",
       "      <td>0</td>\n",
       "      <td>0.048107</td>\n",
       "    </tr>\n",
       "    <tr>\n",
       "      <th>21</th>\n",
       "      <td>Morocco</td>\n",
       "      <td>1</td>\n",
       "      <td>0.051295</td>\n",
       "    </tr>\n",
       "    <tr>\n",
       "      <th>22</th>\n",
       "      <td>Republic of the Congo</td>\n",
       "      <td>0</td>\n",
       "      <td>0.053554</td>\n",
       "    </tr>\n",
       "    <tr>\n",
       "      <th>23</th>\n",
       "      <td>Republic of the Congo</td>\n",
       "      <td>1</td>\n",
       "      <td>0.047947</td>\n",
       "    </tr>\n",
       "    <tr>\n",
       "      <th>24</th>\n",
       "      <td>Senegal</td>\n",
       "      <td>0</td>\n",
       "      <td>0.050906</td>\n",
       "    </tr>\n",
       "    <tr>\n",
       "      <th>25</th>\n",
       "      <td>Senegal</td>\n",
       "      <td>1</td>\n",
       "      <td>0.047540</td>\n",
       "    </tr>\n",
       "    <tr>\n",
       "      <th>26</th>\n",
       "      <td>Seychelles</td>\n",
       "      <td>0</td>\n",
       "      <td>0.046796</td>\n",
       "    </tr>\n",
       "    <tr>\n",
       "      <th>27</th>\n",
       "      <td>Seychelles</td>\n",
       "      <td>1</td>\n",
       "      <td>0.049370</td>\n",
       "    </tr>\n",
       "    <tr>\n",
       "      <th>28</th>\n",
       "      <td>Switzerland</td>\n",
       "      <td>0</td>\n",
       "      <td>0.050344</td>\n",
       "    </tr>\n",
       "    <tr>\n",
       "      <th>29</th>\n",
       "      <td>Switzerland</td>\n",
       "      <td>1</td>\n",
       "      <td>0.048978</td>\n",
       "    </tr>\n",
       "    <tr>\n",
       "      <th>30</th>\n",
       "      <td>Tunisia</td>\n",
       "      <td>0</td>\n",
       "      <td>0.050643</td>\n",
       "    </tr>\n",
       "    <tr>\n",
       "      <th>31</th>\n",
       "      <td>Tunisia</td>\n",
       "      <td>1</td>\n",
       "      <td>0.048647</td>\n",
       "    </tr>\n",
       "  </tbody>\n",
       "</table>\n",
       "</div>"
      ],
      "text/plain": [
       "                             country  test  conversion\n",
       "0                            Algeria     0    0.015071\n",
       "1                            Algeria     1    0.013725\n",
       "2                            Andorra     0    0.048493\n",
       "3                            Andorra     1    0.049229\n",
       "4                            Belgium     0    0.049154\n",
       "5                            Belgium     1    0.048988\n",
       "6                           Cameroon     0    0.049914\n",
       "7                           Cameroon     1    0.050604\n",
       "8                             Canada     0    0.052089\n",
       "9                             Canada     1    0.050571\n",
       "10  Democratic Republic of the Congo     0    0.049495\n",
       "11  Democratic Republic of the Congo     1    0.051186\n",
       "12                             Gabon     0    0.052256\n",
       "13                             Gabon     1    0.054738\n",
       "14                             Haiti     0    0.049369\n",
       "15                             Haiti     1    0.047901\n",
       "16                        Luxembourg     0    0.052647\n",
       "17                        Luxembourg     1    0.054177\n",
       "18                         Mauritius     0    0.012048\n",
       "19                         Mauritius     1    0.012907\n",
       "20                           Morocco     0    0.048107\n",
       "21                           Morocco     1    0.051295\n",
       "22             Republic of the Congo     0    0.053554\n",
       "23             Republic of the Congo     1    0.047947\n",
       "24                           Senegal     0    0.050906\n",
       "25                           Senegal     1    0.047540\n",
       "26                        Seychelles     0    0.046796\n",
       "27                        Seychelles     1    0.049370\n",
       "28                       Switzerland     0    0.050344\n",
       "29                       Switzerland     1    0.048978\n",
       "30                           Tunisia     0    0.050643\n",
       "31                           Tunisia     1    0.048647"
      ]
     },
     "execution_count": 64,
     "metadata": {},
     "output_type": "execute_result"
    }
   ],
   "source": [
    "conversion_by_country = test_user.groupby(['country', 'test']).conversion.mean().reset_index()\n",
    "conversion_by_country"
   ]
  },
  {
   "cell_type": "code",
   "execution_count": 65,
   "metadata": {},
   "outputs": [
    {
     "data": {
      "text/plain": [
       "country                           test\n",
       "Algeria                           0        9356\n",
       "                                  1       37377\n",
       "Andorra                           0        3650\n",
       "                                  1        3697\n",
       "Belgium                           0        8036\n",
       "                                  1        7859\n",
       "Cameroon                          0       16869\n",
       "                                  1       16797\n",
       "Canada                            0       27088\n",
       "                                  1       26972\n",
       "Democratic Republic of the Congo  0       64209\n",
       "                                  1       64275\n",
       "Gabon                             0        2660\n",
       "                                  1        2649\n",
       "Haiti                             0        5550\n",
       "                                  1        5574\n",
       "Luxembourg                        0        3419\n",
       "                                  1        3304\n",
       "Mauritius                         0         415\n",
       "                                  1        3719\n",
       "Morocco                           0        9853\n",
       "                                  1        9884\n",
       "Republic of the Congo             0        4108\n",
       "                                  1        4067\n",
       "Senegal                           0        4361\n",
       "                                  1        4207\n",
       "Seychelles                        0        1966\n",
       "                                  1        1985\n",
       "Switzerland                       0       16149\n",
       "                                  1       15905\n",
       "Tunisia                           0        7622\n",
       "                                  1        7503\n",
       "Name: conversion, dtype: int64"
      ]
     },
     "execution_count": 65,
     "metadata": {},
     "output_type": "execute_result"
    }
   ],
   "source": [
    "test_user.groupby(['country', 'test']).conversion.count()"
   ]
  },
  {
   "cell_type": "code",
   "execution_count": 66,
   "metadata": {},
   "outputs": [
    {
     "data": {
      "text/plain": [
       "country                           test\n",
       "Algeria                           0        141\n",
       "                                  1        513\n",
       "Andorra                           0        177\n",
       "                                  1        182\n",
       "Belgium                           0        395\n",
       "                                  1        385\n",
       "Cameroon                          0        842\n",
       "                                  1        850\n",
       "Canada                            0       1411\n",
       "                                  1       1364\n",
       "Democratic Republic of the Congo  0       3178\n",
       "                                  1       3290\n",
       "Gabon                             0        139\n",
       "                                  1        145\n",
       "Haiti                             0        274\n",
       "                                  1        267\n",
       "Luxembourg                        0        180\n",
       "                                  1        179\n",
       "Mauritius                         0          5\n",
       "                                  1         48\n",
       "Morocco                           0        474\n",
       "                                  1        507\n",
       "Republic of the Congo             0        220\n",
       "                                  1        195\n",
       "Senegal                           0        222\n",
       "                                  1        200\n",
       "Seychelles                        0         92\n",
       "                                  1         98\n",
       "Switzerland                       0        813\n",
       "                                  1        779\n",
       "Tunisia                           0        386\n",
       "                                  1        365\n",
       "Name: conversion, dtype: int64"
      ]
     },
     "execution_count": 66,
     "metadata": {},
     "output_type": "execute_result"
    }
   ],
   "source": [
    "test_user.groupby(['country', 'test']).conversion.sum()"
   ]
  },
  {
   "cell_type": "markdown",
   "metadata": {},
   "source": [
    "Overall, we found that 25% of countries have higher conversion rates in the experiment group than the control group. But are these differences statistically significant?"
   ]
  },
  {
   "cell_type": "code",
   "execution_count": 67,
   "metadata": {},
   "outputs": [
    {
     "name": "stdout",
     "output_type": "stream",
     "text": [
      "Proportion of countries that have a higher conversion rate in the experiment group: 0.25\n"
     ]
    }
   ],
   "source": [
    "tol = 0\n",
    "for i in xrange(1, len(conversion_by_country.conversion), 2):\n",
    "        if conversion_by_country.conversion[i] > conversion_by_country.conversion[i - 1]:\n",
    "            tol += 1\n",
    "print('Proportion of countries that have a higher conversion rate in the experiment group: {}'.\\\n",
    "      format(tol/len(conversion_by_country.conversion)))"
   ]
  },
  {
   "cell_type": "markdown",
   "metadata": {},
   "source": [
    "Next, let's use a Z-test to check whether the difference of conversion rates are statistically significant. We have the following hypotheses: \n",
    "\n",
    "H0: $Conversion\\ rate_{experiment\\ group} = Conversion\\ rate_{control\\ group}$\n",
    "\n",
    "H1: $Conversion\\ rate_{experiment\\ group} < Conversion\\ rate_{control\\ group}$\n",
    "\n",
    "When performing a two-sided Z-test for each country where, we found that all p-values are above the 0.05 significance level, therefore, we cannot reject the null hypothesis mentioned above.\n",
    "\n",
    "**Conclusion: ** Localized translation didn't worsen the conversion rate.\n",
    "\n",
    "In the next section, I will design an algorithm that raise a flag if the same situation seen by the team is happening again in the future."
   ]
  },
  {
   "cell_type": "code",
   "execution_count": 38,
   "metadata": {},
   "outputs": [
    {
     "data": {
      "text/html": [
       "<div>\n",
       "<style scoped>\n",
       "    .dataframe tbody tr th:only-of-type {\n",
       "        vertical-align: middle;\n",
       "    }\n",
       "\n",
       "    .dataframe tbody tr th {\n",
       "        vertical-align: top;\n",
       "    }\n",
       "\n",
       "    .dataframe thead th {\n",
       "        text-align: right;\n",
       "    }\n",
       "</style>\n",
       "<table border=\"1\" class=\"dataframe\">\n",
       "  <thead>\n",
       "    <tr style=\"text-align: right;\">\n",
       "      <th></th>\n",
       "      <th>country</th>\n",
       "      <th>pvalue</th>\n",
       "    </tr>\n",
       "  </thead>\n",
       "  <tbody>\n",
       "    <tr>\n",
       "      <th>0</th>\n",
       "      <td>Algeria</td>\n",
       "      <td>0.160878</td>\n",
       "    </tr>\n",
       "    <tr>\n",
       "      <th>1</th>\n",
       "      <td>Andorra</td>\n",
       "      <td>0.558159</td>\n",
       "    </tr>\n",
       "    <tr>\n",
       "      <th>2</th>\n",
       "      <td>Belgium</td>\n",
       "      <td>0.480755</td>\n",
       "    </tr>\n",
       "    <tr>\n",
       "      <th>3</th>\n",
       "      <td>Cameroon</td>\n",
       "      <td>0.614029</td>\n",
       "    </tr>\n",
       "    <tr>\n",
       "      <th>4</th>\n",
       "      <td>Canada</td>\n",
       "      <td>0.211862</td>\n",
       "    </tr>\n",
       "    <tr>\n",
       "      <th>5</th>\n",
       "      <td>Democratic Republic of the Congo</td>\n",
       "      <td>0.917228</td>\n",
       "    </tr>\n",
       "    <tr>\n",
       "      <th>6</th>\n",
       "      <td>Gabon</td>\n",
       "      <td>0.656102</td>\n",
       "    </tr>\n",
       "    <tr>\n",
       "      <th>7</th>\n",
       "      <td>Haiti</td>\n",
       "      <td>0.359424</td>\n",
       "    </tr>\n",
       "    <tr>\n",
       "      <th>8</th>\n",
       "      <td>Luxembourg</td>\n",
       "      <td>0.609844</td>\n",
       "    </tr>\n",
       "    <tr>\n",
       "      <th>9</th>\n",
       "      <td>Mauritius</td>\n",
       "      <td>0.558611</td>\n",
       "    </tr>\n",
       "    <tr>\n",
       "      <th>10</th>\n",
       "      <td>Morocco</td>\n",
       "      <td>0.848577</td>\n",
       "    </tr>\n",
       "    <tr>\n",
       "      <th>11</th>\n",
       "      <td>Republic of the Congo</td>\n",
       "      <td>0.124099</td>\n",
       "    </tr>\n",
       "    <tr>\n",
       "      <th>12</th>\n",
       "      <td>Senegal</td>\n",
       "      <td>0.235832</td>\n",
       "    </tr>\n",
       "    <tr>\n",
       "      <th>13</th>\n",
       "      <td>Seychelles</td>\n",
       "      <td>0.647363</td>\n",
       "    </tr>\n",
       "    <tr>\n",
       "      <th>14</th>\n",
       "      <td>Switzerland</td>\n",
       "      <td>0.286863</td>\n",
       "    </tr>\n",
       "    <tr>\n",
       "      <th>15</th>\n",
       "      <td>Tunisia</td>\n",
       "      <td>0.286068</td>\n",
       "    </tr>\n",
       "  </tbody>\n",
       "</table>\n",
       "</div>"
      ],
      "text/plain": [
       "                             country    pvalue\n",
       "0                            Algeria  0.160878\n",
       "1                            Andorra  0.558159\n",
       "2                            Belgium  0.480755\n",
       "3                           Cameroon  0.614029\n",
       "4                             Canada  0.211862\n",
       "5   Democratic Republic of the Congo  0.917228\n",
       "6                              Gabon  0.656102\n",
       "7                              Haiti  0.359424\n",
       "8                         Luxembourg  0.609844\n",
       "9                          Mauritius  0.558611\n",
       "10                           Morocco  0.848577\n",
       "11             Republic of the Congo  0.124099\n",
       "12                           Senegal  0.235832\n",
       "13                        Seychelles  0.647363\n",
       "14                       Switzerland  0.286863\n",
       "15                           Tunisia  0.286068"
      ]
     },
     "execution_count": 38,
     "metadata": {},
     "output_type": "execute_result"
    }
   ],
   "source": [
    "country_df = test_user.groupby(['country'])\n",
    "pvalue_df = country_df.apply(lambda x: two_sample_z_test(x, 'smaller')[1]).reset_index()\n",
    "pvalue_df.columns = [u'country', 'pvalue']\n",
    "pvalue_df"
   ]
  },
  {
   "cell_type": "markdown",
   "metadata": {},
   "source": [
    "## 5. Algorithm design 1 - stratification\n",
    "\n",
    "In this section, I propose a system/function that will return false if the same problem is happenning again in the future and return true if the test results are reliable. The methodology is based on a technique called \"stratification\" where we put similar population into the same group and check the if difference in conversion rates is statistically different between the experiment and the control groups. This is to control for confounding effects from other variables.\n",
    "\n",
    "Pseudo code:\n",
    "\n",
    "Select a significance level alpha (e.g. 0.05) and run one-sided Z-test on the entire dataset.\n",
    "\n",
    "If experiment group has a statiscally higher conversion rate than control group:\n",
    "    \n",
    "    return True\n",
    "\n",
    "else:\n",
    "\n",
    "    1. Put similar population into the same group based on their attributes, such as country, sex, and device. After this step we will have n groups\n",
    "    2. Run two-sided Z-test and compute p-value for each of the n groups\n",
    "    3. If there is more than (1- alpha) * 100% (e.g. 95%) of groups that have p values greater than alpha (0.05), return false, else return true."
   ]
  },
  {
   "cell_type": "code",
   "execution_count": 39,
   "metadata": {
    "collapsed": true
   },
   "outputs": [],
   "source": [
    "def alert_system_stratification(df, cols, alpha):\n",
    "    \"\"\"\n",
    "    This function will alert user if unreliable/negative test result\n",
    "    apperas again\n",
    "    \n",
    "    @param - df: final data that's ready to be analyzed (after missing value imputation and so on)\n",
    "    @param - cols: a list of columns to be grouped by\n",
    "    @param - alpha: significance level of the alert system\n",
    "    \n",
    "    return - True or False\n",
    "    \"\"\"\n",
    "    \n",
    "    # HELPER FUNCTION\n",
    "    def two_sample_z_test(df, alternative='two-sided'):\n",
    "        \"\"\"\n",
    "        This function returns the P-value from a two-sample Z-test\n",
    "        \"\"\"\n",
    "        test_df = df[df.test == 1]\n",
    "        control_df = df[df.test == 0]\n",
    "        \n",
    "        test_convert = test_df.conversion.sum()\n",
    "        control_convert = control_df.conversion.sum()\n",
    "        \n",
    "        test_n = len(test_df.conversion)\n",
    "        control_n = len(control_df.conversion)\n",
    "        z, p_value = sm.stats.proportions_ztest([test_convert, control_convert], [test_n, control_n],\n",
    "                                               alternative=alternative)\n",
    "        return(z, p_value)\n",
    "\n",
    "    \n",
    "    # MAIN PART OF FUNCTION\n",
    "    # compute p-value for Z-test, in this step we use data for all countries  \n",
    "    z_score, p_value_all_data = two_sample_z_test(df, alternative='smaller')\n",
    "    \n",
    "    # return True if we fail to reject the null hypothesis where test_conversion_rate >= control_conversion_rate\n",
    "    if p_value_all_data > alpha:\n",
    "        return True\n",
    "    \n",
    "    # else put population into groups based on user provided column names and perform Z-test for each group\n",
    "    else:   \n",
    "        group_df = test_user.groupby(cols)\n",
    "        pvalue_df = group_df.apply(two_sample_z_test).reset_index()\n",
    "        pvalue_df.columns = cols + ['pvalue']\n",
    "        \n",
    "        # if (1-alpha) * 100 percent of the groups have p values higher than alpha, return False\n",
    "        ratio = sum(pval > alpha for pval in pvalue_df.pvalue if pval > alpha) / len(pvalue_df.pvalue)\n",
    "        if ratio > 1 - alpha:\n",
    "            return False   \n",
    "    return True"
   ]
  },
  {
   "cell_type": "markdown",
   "metadata": {},
   "source": [
    "Test the algorithm:\n",
    "\n",
    "Since we are looking at localized translation, it's necessary to alway put **country** in the column list passed into the function. If we were to use different translations for different age groups, then it'd be necessary for put age_group as the first element of the column list.\n",
    "\n",
    "After grouping the population by country, sex, and device, the function returns false because the difference of the conversion rate is not statistically significant within each group."
   ]
  },
  {
   "cell_type": "code",
   "execution_count": 40,
   "metadata": {},
   "outputs": [
    {
     "data": {
      "text/plain": [
       "False"
      ]
     },
     "execution_count": 40,
     "metadata": {},
     "output_type": "execute_result"
    }
   ],
   "source": [
    "alert_system_stratification(test_user, ['country', 'sex', 'device'], 0.05)"
   ]
  },
  {
   "cell_type": "code",
   "execution_count": 41,
   "metadata": {},
   "outputs": [
    {
     "data": {
      "text/plain": [
       "False"
      ]
     },
     "execution_count": 41,
     "metadata": {},
     "output_type": "execute_result"
    }
   ],
   "source": [
    "alert_system_stratification(test_user, ['country', 'browser_language'], 0.01)"
   ]
  },
  {
   "cell_type": "markdown",
   "metadata": {},
   "source": [
    "## 6. Algorithm design 2 - logistic regression\n",
    "\n",
    "Besides stratification, we can also rely on regression. For example, we can put confounding variables in the regression and check if the coefficent of experiment group is significantly different from the control group.\n",
    "\n",
    "My algorithm will:\n",
    "\n",
    "First, only use variable \"test\" in a logistic regression. If the p-value is <= than some significance level alpha and coefficient > 0:\n",
    "        \n",
    "        return True\n",
    "        \n",
    "Else:\n",
    "run the regression with \"test\" and one of the other variables. If the p-value of \"test\" from at least one of the regressions is >= alpha or if the coefficient of \"test\" changes by 10% as compared to the simple regression with only \"test\":\n",
    "        \n",
    "        return False\n",
    "        \n",
    "Else:\n",
    "run the regression with \"test\" and all other variables and check if the p-value of \"test\" >= 0.05 or coefficent of \"test\" changes by 10%:\n",
    "    \n",
    "        return False\n",
    "        \n",
    "return True if none of the above conditions are met, meaning the team is not going to encounter the same problem in the future."
   ]
  },
  {
   "cell_type": "code",
   "execution_count": 68,
   "metadata": {
    "collapsed": true
   },
   "outputs": [],
   "source": [
    "import statsmodels.formula.api as smf\n",
    "def alert_system_regression(df, cols, test_var, alpha):\n",
    "    \"\"\"\n",
    "    This function will alert user if unreliable/negative test result\n",
    "    apperas again\n",
    "    \n",
    "    @param - df: final data that's ready to be analyzed (after missing value imputation and so on)\n",
    "    @param - cols: a list of possible confounding variables\n",
    "    @param - test_var: dummy variable that indicates whether \n",
    "             a user belongs to test(1) or control(0)\n",
    "    @param - alpha: significance level of the alert system\n",
    "    \n",
    "    return - True or False\n",
    "    \"\"\"\n",
    "    \n",
    "    def logit_reg(data, dependent_var, independent_vars):\n",
    "        expression = '{}~'.format(dependent_var)\n",
    "        if len(independent_vars) < 1:\n",
    "            return 'Error: list is empty.'\n",
    "        \n",
    "        if len(independent_vars) == 1:\n",
    "            expression += 'C({})'.format(independent_vars[0])\n",
    "        else:    \n",
    "            for var in independent_vars:\n",
    "                expression += 'C({})+'.format(var)\n",
    "            expression = expression[:-1]\n",
    "        print('regression with {}'.format(expression))\n",
    "        logit = smf.logit(formula=expression, data=df).fit()\n",
    "        print()\n",
    "        return logit\n",
    "\n",
    "    logit = logit_reg(df, 'conversion', [test_var])\n",
    "    coef = logit.params['C({})[T.1]'.format(test_var)]\n",
    "    pval = logit.pvalues['C({})[T.1]'.format(test_var)]\n",
    "    \n",
    "    if coef > 0 and p_value <= alpha:\n",
    "        return True\n",
    "    \n",
    "    for col in cols:\n",
    "        logit_with_confounding = logit_reg(df, 'conversion', [test_var, col])\n",
    "        coef_conf = logit_with_confounding.params['C({})[T.1]'.format(test_var)]\n",
    "        pval_conf = logit_with_confounding.pvalues['C({})[T.1]'.format(test_var)]\n",
    "        if abs((coef_conf - coef) / coef) >= 0.1 or pval_conf > alpha:\n",
    "            return False\n",
    "        \n",
    "    logit_full = logit_reg(df, 'conversion', cols + [test_var])\n",
    "    coef_full = logit_full.params['C({})[T.1]'.format(test_var)]\n",
    "    pval_full = logit_full.pvalues['C({})[T.1]'.format(test_var)]\n",
    "    if abs((coef_full - coef) / coef) >= 0.1 or pval_full > alpha:\n",
    "        return False\n",
    "   \n",
    "    return True"
   ]
  },
  {
   "cell_type": "code",
   "execution_count": 137,
   "metadata": {},
   "outputs": [
    {
     "name": "stdout",
     "output_type": "stream",
     "text": [
      "regression with conversion~C(test)\n",
      "Optimization terminated successfully.\n",
      "         Current function value: 0.185560\n",
      "         Iterations 7\n",
      "\n",
      "regression with conversion~C(test)+C(source)\n",
      "Optimization terminated successfully.\n",
      "         Current function value: 0.185560\n",
      "         Iterations 7\n",
      "\n",
      "regression with conversion~C(test)+C(device)\n",
      "Optimization terminated successfully.\n",
      "         Current function value: 0.185558\n",
      "         Iterations 7\n",
      "\n",
      "regression with conversion~C(test)+C(country)\n",
      "Optimization terminated successfully.\n",
      "         Current function value: 0.183338\n",
      "         Iterations 8\n",
      "\n"
     ]
    },
    {
     "data": {
      "text/plain": [
       "False"
      ]
     },
     "execution_count": 137,
     "metadata": {},
     "output_type": "execute_result"
    }
   ],
   "source": [
    "cols =  ['source', 'device', 'country', 'ads_channel', 'browser', 'sex']\n",
    "alert_system_regression(test_user, cols=cols, test_var='test', alpha=0.05)"
   ]
  },
  {
   "cell_type": "markdown",
   "metadata": {},
   "source": [
    "**Summary: ** When running the regression with \"test\" and \"country\", the system identified that the coefficent of \"test\" has changed by 10%, also the p-value is greater than 0.05, therefore it returns false. Let's eyeball the result this time.\n",
    "\n",
    "First, let's run a regression with only \"test\". We found that the p-value of \"test\" is < 0.05, the coefficient is -0.1117"
   ]
  },
  {
   "cell_type": "code",
   "execution_count": 69,
   "metadata": {},
   "outputs": [
    {
     "name": "stdout",
     "output_type": "stream",
     "text": [
      "Optimization terminated successfully.\n",
      "         Current function value: 0.185560\n",
      "         Iterations 7\n"
     ]
    },
    {
     "data": {
      "text/html": [
       "<table class=\"simpletable\">\n",
       "<caption>Logit Regression Results</caption>\n",
       "<tr>\n",
       "  <th>Dep. Variable:</th>    <td>conversion</td>    <th>  No. Observations:  </th>  <td>401539</td>  \n",
       "</tr>\n",
       "<tr>\n",
       "  <th>Model:</th>               <td>Logit</td>      <th>  Df Residuals:      </th>  <td>401537</td>  \n",
       "</tr>\n",
       "<tr>\n",
       "  <th>Method:</th>               <td>MLE</td>       <th>  Df Model:          </th>  <td>     1</td>  \n",
       "</tr>\n",
       "<tr>\n",
       "  <th>Date:</th>          <td>Tue, 23 Jan 2018</td> <th>  Pseudo R-squ.:     </th> <td>0.0003687</td>\n",
       "</tr>\n",
       "<tr>\n",
       "  <th>Time:</th>              <td>17:36:23</td>     <th>  Log-Likelihood:    </th> <td> -74510.</td> \n",
       "</tr>\n",
       "<tr>\n",
       "  <th>converged:</th>           <td>True</td>       <th>  LL-Null:           </th> <td> -74537.</td> \n",
       "</tr>\n",
       "<tr>\n",
       "  <th> </th>                      <td> </td>        <th>  LLR p-value:       </th> <td>1.224e-13</td>\n",
       "</tr>\n",
       "</table>\n",
       "<table class=\"simpletable\">\n",
       "<tr>\n",
       "        <td></td>          <th>coef</th>     <th>std err</th>      <th>z</th>      <th>P>|z|</th>  <th>[0.025</th>    <th>0.975]</th>  \n",
       "</tr>\n",
       "<tr>\n",
       "  <th>Intercept</th>    <td>   -2.9802</td> <td>    0.011</td> <td> -275.315</td> <td> 0.000</td> <td>   -3.001</td> <td>   -2.959</td>\n",
       "</tr>\n",
       "<tr>\n",
       "  <th>C(test)[T.1]</th> <td>   -0.1122</td> <td>    0.015</td> <td>   -7.419</td> <td> 0.000</td> <td>   -0.142</td> <td>   -0.083</td>\n",
       "</tr>\n",
       "</table>"
      ],
      "text/plain": [
       "<class 'statsmodels.iolib.summary.Summary'>\n",
       "\"\"\"\n",
       "                           Logit Regression Results                           \n",
       "==============================================================================\n",
       "Dep. Variable:             conversion   No. Observations:               401539\n",
       "Model:                          Logit   Df Residuals:                   401537\n",
       "Method:                           MLE   Df Model:                            1\n",
       "Date:                Tue, 23 Jan 2018   Pseudo R-squ.:               0.0003687\n",
       "Time:                        17:36:23   Log-Likelihood:                -74510.\n",
       "converged:                       True   LL-Null:                       -74537.\n",
       "                                        LLR p-value:                 1.224e-13\n",
       "================================================================================\n",
       "                   coef    std err          z      P>|z|      [0.025      0.975]\n",
       "--------------------------------------------------------------------------------\n",
       "Intercept       -2.9802      0.011   -275.315      0.000      -3.001      -2.959\n",
       "C(test)[T.1]    -0.1122      0.015     -7.419      0.000      -0.142      -0.083\n",
       "================================================================================\n",
       "\"\"\""
      ]
     },
     "execution_count": 69,
     "metadata": {},
     "output_type": "execute_result"
    }
   ],
   "source": [
    "logit = smf.logit(formula='conversion ~ C(test)', data=test_user).fit()\n",
    "logit.summary()"
   ]
  },
  {
   "cell_type": "markdown",
   "metadata": {},
   "source": [
    "Next, let's run a regression with \"test\" and \"country\". We found that p-value is 0.837 which is > 0.05. Also coefficient of \"test\" is 0.0031, it has changed over 10% compared to -0.1117."
   ]
  },
  {
   "cell_type": "code",
   "execution_count": 70,
   "metadata": {},
   "outputs": [
    {
     "name": "stdout",
     "output_type": "stream",
     "text": [
      "Optimization terminated successfully.\n",
      "         Current function value: 0.183338\n",
      "         Iterations 8\n"
     ]
    },
    {
     "data": {
      "text/html": [
       "<table class=\"simpletable\">\n",
       "<caption>Logit Regression Results</caption>\n",
       "<tr>\n",
       "  <th>Dep. Variable:</th>    <td>conversion</td>    <th>  No. Observations:  </th>  <td>401085</td> \n",
       "</tr>\n",
       "<tr>\n",
       "  <th>Model:</th>               <td>Logit</td>      <th>  Df Residuals:      </th>  <td>401068</td> \n",
       "</tr>\n",
       "<tr>\n",
       "  <th>Method:</th>               <td>MLE</td>       <th>  Df Model:          </th>  <td>    16</td> \n",
       "</tr>\n",
       "<tr>\n",
       "  <th>Date:</th>          <td>Tue, 23 Jan 2018</td> <th>  Pseudo R-squ.:     </th>  <td>0.01193</td>\n",
       "</tr>\n",
       "<tr>\n",
       "  <th>Time:</th>              <td>17:36:31</td>     <th>  Log-Likelihood:    </th> <td> -73534.</td>\n",
       "</tr>\n",
       "<tr>\n",
       "  <th>converged:</th>           <td>True</td>       <th>  LL-Null:           </th> <td> -74422.</td>\n",
       "</tr>\n",
       "<tr>\n",
       "  <th> </th>                      <td> </td>        <th>  LLR p-value:       </th>  <td> 0.000</td> \n",
       "</tr>\n",
       "</table>\n",
       "<table class=\"simpletable\">\n",
       "<tr>\n",
       "                         <td></td>                           <th>coef</th>     <th>std err</th>      <th>z</th>      <th>P>|z|</th>  <th>[0.025</th>    <th>0.975]</th>  \n",
       "</tr>\n",
       "<tr>\n",
       "  <th>Intercept</th>                                      <td>   -4.2575</td> <td>    0.041</td> <td> -103.257</td> <td> 0.000</td> <td>   -4.338</td> <td>   -4.177</td>\n",
       "</tr>\n",
       "<tr>\n",
       "  <th>C(test)[T.1]</th>                                   <td>    0.0031</td> <td>    0.015</td> <td>    0.206</td> <td> 0.837</td> <td>   -0.027</td> <td>    0.033</td>\n",
       "</tr>\n",
       "<tr>\n",
       "  <th>C(country)[T.Andorra]</th>                          <td>    1.2873</td> <td>    0.067</td> <td>   19.190</td> <td> 0.000</td> <td>    1.156</td> <td>    1.419</td>\n",
       "</tr>\n",
       "<tr>\n",
       "  <th>C(country)[T.Belgium]</th>                          <td>    1.2918</td> <td>    0.054</td> <td>   23.903</td> <td> 0.000</td> <td>    1.186</td> <td>    1.398</td>\n",
       "</tr>\n",
       "<tr>\n",
       "  <th>C(country)[T.Cameroon]</th>                         <td>    1.3169</td> <td>    0.047</td> <td>   28.115</td> <td> 0.000</td> <td>    1.225</td> <td>    1.409</td>\n",
       "</tr>\n",
       "<tr>\n",
       "  <th>C(country)[T.Canada]</th>                           <td>    1.3392</td> <td>    0.044</td> <td>   30.314</td> <td> 0.000</td> <td>    1.253</td> <td>    1.426</td>\n",
       "</tr>\n",
       "<tr>\n",
       "  <th>C(country)[T.Democratic Republic of the Congo]</th> <td>    1.3187</td> <td>    0.042</td> <td>   31.663</td> <td> 0.000</td> <td>    1.237</td> <td>    1.400</td>\n",
       "</tr>\n",
       "<tr>\n",
       "  <th>C(country)[T.Gabon]</th>                            <td>    1.3827</td> <td>    0.073</td> <td>   19.008</td> <td> 0.000</td> <td>    1.240</td> <td>    1.525</td>\n",
       "</tr>\n",
       "<tr>\n",
       "  <th>C(country)[T.Haiti]</th>                            <td>    1.2824</td> <td>    0.059</td> <td>   21.631</td> <td> 0.000</td> <td>    1.166</td> <td>    1.399</td>\n",
       "</tr>\n",
       "<tr>\n",
       "  <th>C(country)[T.Luxembourg]</th>                       <td>    1.3809</td> <td>    0.067</td> <td>   20.550</td> <td> 0.000</td> <td>    1.249</td> <td>    1.513</td>\n",
       "</tr>\n",
       "<tr>\n",
       "  <th>C(country)[T.Mauritius]</th>                        <td>   -0.0891</td> <td>    0.144</td> <td>   -0.620</td> <td> 0.535</td> <td>   -0.371</td> <td>    0.193</td>\n",
       "</tr>\n",
       "<tr>\n",
       "  <th>C(country)[T.Morocco]</th>                          <td>    1.3052</td> <td>    0.051</td> <td>   25.383</td> <td> 0.000</td> <td>    1.204</td> <td>    1.406</td>\n",
       "</tr>\n",
       "<tr>\n",
       "  <th>C(country)[T.Republic of the Congo]</th>            <td>    1.3275</td> <td>    0.064</td> <td>   20.705</td> <td> 0.000</td> <td>    1.202</td> <td>    1.453</td>\n",
       "</tr>\n",
       "<tr>\n",
       "  <th>C(country)[T.Senegal]</th>                          <td>    1.2957</td> <td>    0.064</td> <td>   20.321</td> <td> 0.000</td> <td>    1.171</td> <td>    1.421</td>\n",
       "</tr>\n",
       "<tr>\n",
       "  <th>C(country)[T.Seychelles]</th>                       <td>    1.2705</td> <td>    0.084</td> <td>   15.078</td> <td> 0.000</td> <td>    1.105</td> <td>    1.436</td>\n",
       "</tr>\n",
       "<tr>\n",
       "  <th>C(country)[T.Switzerland]</th>                      <td>    1.3045</td> <td>    0.047</td> <td>   27.604</td> <td> 0.000</td> <td>    1.212</td> <td>    1.397</td>\n",
       "</tr>\n",
       "<tr>\n",
       "  <th>C(country)[T.Tunisia]</th>                          <td>    1.3042</td> <td>    0.055</td> <td>   23.918</td> <td> 0.000</td> <td>    1.197</td> <td>    1.411</td>\n",
       "</tr>\n",
       "</table>"
      ],
      "text/plain": [
       "<class 'statsmodels.iolib.summary.Summary'>\n",
       "\"\"\"\n",
       "                           Logit Regression Results                           \n",
       "==============================================================================\n",
       "Dep. Variable:             conversion   No. Observations:               401085\n",
       "Model:                          Logit   Df Residuals:                   401068\n",
       "Method:                           MLE   Df Model:                           16\n",
       "Date:                Tue, 23 Jan 2018   Pseudo R-squ.:                 0.01193\n",
       "Time:                        17:36:31   Log-Likelihood:                -73534.\n",
       "converged:                       True   LL-Null:                       -74422.\n",
       "                                        LLR p-value:                     0.000\n",
       "==================================================================================================================\n",
       "                                                     coef    std err          z      P>|z|      [0.025      0.975]\n",
       "------------------------------------------------------------------------------------------------------------------\n",
       "Intercept                                         -4.2575      0.041   -103.257      0.000      -4.338      -4.177\n",
       "C(test)[T.1]                                       0.0031      0.015      0.206      0.837      -0.027       0.033\n",
       "C(country)[T.Andorra]                              1.2873      0.067     19.190      0.000       1.156       1.419\n",
       "C(country)[T.Belgium]                              1.2918      0.054     23.903      0.000       1.186       1.398\n",
       "C(country)[T.Cameroon]                             1.3169      0.047     28.115      0.000       1.225       1.409\n",
       "C(country)[T.Canada]                               1.3392      0.044     30.314      0.000       1.253       1.426\n",
       "C(country)[T.Democratic Republic of the Congo]     1.3187      0.042     31.663      0.000       1.237       1.400\n",
       "C(country)[T.Gabon]                                1.3827      0.073     19.008      0.000       1.240       1.525\n",
       "C(country)[T.Haiti]                                1.2824      0.059     21.631      0.000       1.166       1.399\n",
       "C(country)[T.Luxembourg]                           1.3809      0.067     20.550      0.000       1.249       1.513\n",
       "C(country)[T.Mauritius]                           -0.0891      0.144     -0.620      0.535      -0.371       0.193\n",
       "C(country)[T.Morocco]                              1.3052      0.051     25.383      0.000       1.204       1.406\n",
       "C(country)[T.Republic of the Congo]                1.3275      0.064     20.705      0.000       1.202       1.453\n",
       "C(country)[T.Senegal]                              1.2957      0.064     20.321      0.000       1.171       1.421\n",
       "C(country)[T.Seychelles]                           1.2705      0.084     15.078      0.000       1.105       1.436\n",
       "C(country)[T.Switzerland]                          1.3045      0.047     27.604      0.000       1.212       1.397\n",
       "C(country)[T.Tunisia]                              1.3042      0.055     23.918      0.000       1.197       1.411\n",
       "==================================================================================================================\n",
       "\"\"\""
      ]
     },
     "execution_count": 70,
     "metadata": {},
     "output_type": "execute_result"
    }
   ],
   "source": [
    "logit = smf.logit(formula='conversion ~ C(test) + C(country)', data=test_user).fit()\n",
    "logit.summary()"
   ]
  }
 ],
 "metadata": {
  "kernelspec": {
   "display_name": "Python 2",
   "language": "python",
   "name": "python2"
  },
  "language_info": {
   "codemirror_mode": {
    "name": "ipython",
    "version": 2
   },
   "file_extension": ".py",
   "mimetype": "text/x-python",
   "name": "python",
   "nbconvert_exporter": "python",
   "pygments_lexer": "ipython2",
   "version": "2.7.14"
  }
 },
 "nbformat": 4,
 "nbformat_minor": 2
}
